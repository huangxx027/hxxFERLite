{
 "cells": [
  {
   "cell_type": "code",
   "execution_count": 1,
   "metadata": {},
   "outputs": [],
   "source": [
    "import pandas as pd"
   ]
  },
  {
   "cell_type": "code",
   "execution_count": 8,
   "metadata": {},
   "outputs": [],
   "source": [
    "df1 = pd.read_csv('../emotion_recorder.csv')\n"
   ]
  },
  {
   "cell_type": "code",
   "execution_count": 11,
   "metadata": {},
   "outputs": [
    {
     "name": "stdout",
     "output_type": "stream",
     "text": [
      "     Unnamed: 0   0\n",
      "0             0  开心\n",
      "1             1  开心\n",
      "2             2  开心\n",
      "3             3  开心\n",
      "4             4  开心\n",
      "..          ...  ..\n",
      "129         129  伤心\n",
      "130         130  开心\n",
      "131         131  开心\n",
      "132         132  开心\n",
      "133         133  开心\n",
      "\n",
      "[134 rows x 2 columns]\n"
     ]
    }
   ],
   "source": [
    "print(df1)"
   ]
  },
  {
   "cell_type": "code",
   "execution_count": 13,
   "metadata": {},
   "outputs": [
    {
     "name": "stdout",
     "output_type": "stream",
     "text": [
      "Index(['Unnamed: 0', '0'], dtype='object')\n"
     ]
    }
   ],
   "source": [
    "print(df1.columns)"
   ]
  },
  {
   "cell_type": "code",
   "execution_count": 14,
   "metadata": {},
   "outputs": [],
   "source": [
    "df1.columns = ['num','emotion']"
   ]
  },
  {
   "cell_type": "code",
   "execution_count": 15,
   "metadata": {},
   "outputs": [
    {
     "name": "stdout",
     "output_type": "stream",
     "text": [
      "     num emotion\n",
      "0      0      开心\n",
      "1      1      开心\n",
      "2      2      开心\n",
      "3      3      开心\n",
      "4      4      开心\n",
      "..   ...     ...\n",
      "129  129      伤心\n",
      "130  130      开心\n",
      "131  131      开心\n",
      "132  132      开心\n",
      "133  133      开心\n",
      "\n",
      "[134 rows x 2 columns]\n"
     ]
    }
   ],
   "source": [
    "print(df1)"
   ]
  },
  {
   "cell_type": "code",
   "execution_count": 25,
   "metadata": {},
   "outputs": [],
   "source": [
    "emo_list = df1['emotion'].tolist()"
   ]
  },
  {
   "cell_type": "code",
   "execution_count": 26,
   "metadata": {
    "scrolled": true
   },
   "outputs": [
    {
     "name": "stdout",
     "output_type": "stream",
     "text": [
      "['开心', '开心', '开心', '开心', '开心', '开心', '开心', '开心', '中性', '发怒', '中性', '中性', '中性', '中性', '中性', '开心', '惊讶', '开心', '惊讶', '开心', '惊讶', '开心', '惊讶', '开心', '惊讶', '伤心', '惊讶', '伤心', '惊讶', '惊讶', '惊讶', '惊讶', '中性', '伤心', '伤心', '伤心', '伤心', '伤心', '伤心', '伤心', '伤心', '伤心', '伤心', '中性', '伤心', '伤心', '伤心', '伤心', '伤心', '伤心', '伤心', '伤心', '伤心', '伤心', '伤心', '伤心', '伤心', '伤心', '中性', '中性', '中性', '中性', '伤心', '中性', '中性', '中性', '中性', '伤心', '中性', '中性', '中性', '中性', '伤心', '伤心', '伤心', '伤心', '伤心', '伤心', '开心', '伤心', '伤心', '伤心', '伤心', '伤心', '伤心', '伤心', '中性', '中性', '中性', '伤心', '中性', '伤心', '伤心', '中性', '中性', '开心', '开心', '中性', '伤心', '伤心', '伤心', '伤心', '伤心', '伤心', '伤心', '伤心', '开心', '开心', '伤心', '开心', '中性', '伤心', '中性', '中性', '伤心', '伤心', '伤心', '伤心', '伤心', '伤心', '伤心', '伤心', '伤心', '伤心', '伤心', '伤心', '伤心', '开心', '开心', '伤心', '开心', '开心', '开心', '开心']\n"
     ]
    }
   ],
   "source": [
    "print(emo_list)"
   ]
  },
  {
   "cell_type": "code",
   "execution_count": 28,
   "metadata": {},
   "outputs": [
    {
     "name": "stdout",
     "output_type": "stream",
     "text": [
      "134\n"
     ]
    }
   ],
   "source": [
    "print(len(emo_list))"
   ]
  },
  {
   "cell_type": "code",
   "execution_count": 32,
   "metadata": {},
   "outputs": [],
   "source": [
    "#定义记录表情变化的次数为emo_change\n",
    "emo_change = -1\n",
    "#上一个的表情\n",
    "pre_emotion = 'nothing'\n",
    "\n",
    "for k in range(len(emo_list)):\n",
    "    if(emo_list[k] != pre_emotion):\n",
    "        emo_change = emo_change + 1\n",
    "        pre_emotion = emo_list[k]"
   ]
  },
  {
   "cell_type": "code",
   "execution_count": 33,
   "metadata": {},
   "outputs": [
    {
     "name": "stdout",
     "output_type": "stream",
     "text": [
      "47\n"
     ]
    }
   ],
   "source": [
    "print(emo_change)"
   ]
  },
  {
   "cell_type": "code",
   "execution_count": null,
   "metadata": {},
   "outputs": [],
   "source": []
  }
 ],
 "metadata": {
  "kernelspec": {
   "display_name": "Python 3",
   "language": "python",
   "name": "python3"
  },
  "language_info": {
   "codemirror_mode": {
    "name": "ipython",
    "version": 3
   },
   "file_extension": ".py",
   "mimetype": "text/x-python",
   "name": "python",
   "nbconvert_exporter": "python",
   "pygments_lexer": "ipython3",
   "version": "3.7.0"
  }
 },
 "nbformat": 4,
 "nbformat_minor": 5
}
